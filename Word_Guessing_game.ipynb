{
  "nbformat": 4,
  "nbformat_minor": 0,
  "metadata": {
    "colab": {
      "provenance": []
    },
    "kernelspec": {
      "name": "python3",
      "display_name": "Python 3"
    },
    "language_info": {
      "name": "python"
    }
  },
  "cells": [
    {
      "cell_type": "markdown",
      "source": [
        "Word Guessing Game"
      ],
      "metadata": {
        "id": "WwJdppAi7xZL"
      }
    },
    {
      "cell_type": "code",
      "execution_count": 7,
      "metadata": {
        "colab": {
          "base_uri": "https://localhost:8080/"
        },
        "id": "ylGA3f547oTG",
        "outputId": "19608b49-1e96-4fa2-bef6-489c936f2772"
      },
      "outputs": [
        {
          "output_type": "stream",
          "name": "stdout",
          "text": [
            "What is your name?nistha\n",
            "Good Luck! nistha\n"
          ]
        }
      ],
      "source": [
        "import random\n",
        "name=input(\"What is your name?\")\n",
        "print(\"Good Luck!\",name)\n",
        "words=['About',\t'Alert','Argue',\t'Beach','Above',\t'Alike',\t'Arise',\t'Began','Abuse',\t'Alive',\t'Array',\t'Begin','Actor',\t'Allow',\t'Aside',\t'Begun','Acute',\t'Alone',\t'Asset',\t'Being','Admit',\t'Along',\t'Audio',\t'Below','Adopt',\t'Alter',\t'Audit',\t'Bench','Adult',\t'Among',\t'Avoid',\t'Billy','After',\t'Anger',\t'Award',\t'Birth','Again',\t'Angle',\t'Aware',\t'Black','Agent',\t'Angry',\t'Badly',\t'Blame','Agree',\t'Apart',\t'Baker',\t'Blind','Ahead',\t'Apple',\t'Bases',\t'Block','Alarm',\t'Apply',\t'Basic',\t'Blood','Album',\t'Arena',\t'Basis',\t'Board','Boost',\t'Buyer',\t'China',\t'Cover','Booth',\t'Cable',\t'Chose',\t'Craft','Bound',\t'Calif',\t'Civil',\t'Crash','Brain',\t'Carry',\t'Claim',\t'Cream','Brand',\t'Catch',\t'Class',\t'Crime','Bread',\t'Cause',\t'Clean',\t'Cross','Break',\t'Chain',\t'Clear',\t'Crowd','Breed',\t'Chair',\t'Click',\t'Crown','Brief',\t'Chart',\t'Clock',\t'Curve','Bring',\t'Chase',\t'Close',\t'Cycle','Broad',\t'Cheap',\t'Coach',\t'Daily','Broke',\t'Check',\t'Coast',\t'Dance','Brown',\t'Chest',\t'Could',\t'Dated','Build',\t'Chief',\t'Count',\t'Dealt','Built',\t'Child',\t'Court',\t'Death','Debut',\t'Entry',\t'Forth',\t'Group','Delay',\t'Equal',\t'Forty',\t'Grown','Depth',\t'Error',\t'Forum',\t'Guard','Doing',\t'Event',\t'Found',\t'Guess','Doubt',\t'Every',\t'Frame',\t'Guest','Dozen',\t'Exact',\t'Frank',\t'Guide','Draft',\t'Exist',\t'Fraud',\t'Happy','Drama',\t'Extra',\t'Fresh',\t'Harry','Drawn',\t'Faith',\t'Front',\t'Heart','Dream',\t'False',\t'Fruit',\t'Heavy','Dress',\t'Fault',\t'Fully',\t'Hence','Drill',\t'Fibre',\t'Funny',\t'Night','Drink',\t'Field',\t'Giant',\t'Horse','Drive',\t'Fifth',\t'Given',\t'Hotel','Drove',\t'Fifty',\t'Glass',\t'House','Dying',\t'Fight',\t'Globe',\t'Human','Eager',\t'Final',\t'Going',\t'Ideal','Early',\t'First',\t'Grace',\t'Image','Earth',\t'Fixed',\t'Grade',\t'Index','Eight',\t'Flash',\t'Grand',\t'Inner','Elite',\t'Fleet',\t'Grant',\t'Input','Empty',\t'Floor',\t'Grass',\t'Issue','Enemy',\t'Fluid',\t'Great',\t'Irony','Enjoy',\t'Focus',\t'Green',\t'Juice','Enter',\t'Force',\t'Gross',\t'Joint','Judge',\t'Metal',\t'Media',\t'Newly','Known',\t'Local',\t'Might',\t'Noise','Label',\t'Logic',\t'Minor',\t'North','Large',\t'Loose',\t'Minus',\t'Noted','Laser',\t'Lower',\t'Mixed',\t'Novel','Later',\t'Lucky',\t'Model',\t'Nurse','Laugh',\t'Lunch',\t'Money',\t'Occur','Layer',\t'Lying',\t'Month',\t'Ocean','Learn',\t'Magic',\t'Moral',\t'Offer','Lease',\t'Major',\t'Motor',\t'Often','Least',\t'Maker',\t'Mount',\t'Order','Leave',\t'March',\t'Mouse',\t'Other','Legal',\t'Music',\t'Mouth',\t'Ought','Level',\t'Match',\t'Movie',\t'Paint','Light',\t'Mayor',\t'Needs',\t'Paper','Limit',\t'Meant',\t'Never',\t'Party','Peace',\t'Power',\t'Radio',\t'Round','Panel',\t'Press',\t'Raise',\t'Route','Phase',\t'Price',\t'Range',\t'Royal','Phone',\t'Pride',\t'Rapid',\t'Rural','Photo',\t'Prime',\t'Ratio',\t'Scale','Piece',\t'Print',\t'Reach',\t'Scene','Pilot',\t'Prior',\t'Ready',\t'Scope','Pitch',\t'Prize',\t'Refer',\t'Score','Place',\t'Proof',\t'Right',\t'Sense','Plain',\t'Proud',\t'Rival',\t'Serve','Plane',\t'Prove',\t'River',\t'Seven','Plant',\t'Queen',\t'Quick',\t'Shall','Plate',\t'Sixth',\t'Stand',\t'Shape','Point',\t'Quiet',\t'Roman',\t'Share','Pound',\t'Quite',\t'Rough',\t'Sharp','Sheet',\t'Spare',\t'Style',\t'Times','Shelf',\t'Speak',\t'Sugar',\t'Tired','Shell',\t'Speed',\t'Suite',\t'Title','Shift',\t'Spend',\t'Super',\t'Today','Shirt',\t'Spent',\t'Sweet',\t'Topic','Shock',\t'Split',\t'Table',\t'Total','Shoot',\t'Spoke',\t'Taken',\t'Touch','Short',\t'Sport',\t'Taste',\t'Tough','Shown',\t'Staff',\t'Taxes',\t'Tower','Sight',\t'Stage',\t'Teach',\t'Track','Since',\t'Stake',\t'Teeth',\t'Trade','Sixty',\t'Start',\t'Texas',\t'Treat','Sized',\t'State',\t'Thank',\t'Trend','Skill',\t'Steam',\t'Theft',\t'Trial','Sleep',\t'Steel',\t'Their',\t'Tried','Slide',\t'Stick',\t'Theme',\t'Tries','Small',\t'Still',\t'There',\t'Truck','Smart',\t'Stock',\t'These',\t'Truly','Smile',\t'Stone',\t'Thick',\t'Trust','Smith',\t'Stood',\t'Thing',\t'Truth','Smoke',\t'Store',\t'Think',\t'Twice','Solid',\t'Storm',\t'Third',\t'Under','Solve',\t'Story',\t'Those',\t'Undue','Sorry',\t'Strip',\t'Three',\t'Union','Sound',\t'Stuck',\t'Threw',\t'Unity','South',\t'Study',\t'Throw',\t'Until','Space',\t'Stuff',\t'Tight',\t'Upper','Upset',\t'Whole',\t'Waste',\t'Wound','Urban',\t'Whose',\t'Watch',\t'Write','Usage',\t'Woman',\t'Water',\t'Wrong','Usual',\t'Train',\t'Wheel',\t'Wrote','Valid',\t'World',\t'Where',\t'Yield','Value',\t'Worry',\t'Which',\t'Young','Video',\t'Worse',\t'While',\t'Youth','Virus',\t'Worst',\t'White',\t'Worth','Visit',\t'Would',\t'Vital',\t'Voice']"
      ]
    },
    {
      "cell_type": "code",
      "source": [
        "word=random.choice(words)\n",
        "print(\"Guess the characters\")\n",
        "guesses=''\n",
        "turns=6"
      ],
      "metadata": {
        "colab": {
          "base_uri": "https://localhost:8080/"
        },
        "id": "sx0xQg98-Owb",
        "outputId": "661d9cd5-f654-424a-e8e5-3f49221cb4b1"
      },
      "execution_count": 8,
      "outputs": [
        {
          "output_type": "stream",
          "name": "stdout",
          "text": [
            "Guess the characters\n"
          ]
        }
      ]
    },
    {
      "cell_type": "code",
      "source": [
        "while turns > 0:\n",
        "  failed=0\n",
        "  for i in word:\n",
        "    if i in guesses:\n",
        "      print(i,end=\"\")\n",
        "    else:\n",
        "      print(\"_\",end=' ')\n",
        "      failed += 1\n",
        "\n",
        "  if failed==0:\n",
        "    print(\"You win\")\n",
        "    print(\"The word is:\",word)\n",
        "    break\n",
        "\n",
        "print()\n",
        "guess=input(\"guess a character\")\n",
        "guesses += guess\n",
        "\n",
        "if guess not in word:\n",
        "  turns-=1\n",
        "  print(\"Wrong\")\n",
        "  print(\"You have\",+ turns,\"more guesses\")"
      ],
      "metadata": {
        "colab": {
          "base_uri": "https://localhost:8080/"
        },
        "id": "i8Wph6rv-vrg",
        "outputId": "eecd0c36-45ae-42da-d318-51eae1c9f12b"
      },
      "execution_count": 9,
      "outputs": [
        {
          "output_type": "stream",
          "name": "stdout",
          "text": [
            "\n",
            "guess a characterprint\n",
            "Wrong\n",
            "You have 5 more guesses\n"
          ]
        }
      ]
    }
  ]
}